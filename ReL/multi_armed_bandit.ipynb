{
 "cells": [
  {
   "cell_type": "code",
   "execution_count": 1,
   "metadata": {},
   "outputs": [],
   "source": [
    "import numpy as np\n",
    "import matplotlib.pyplot as plt\n",
    "from scipy.stats import beta\n",
    "from scipy.stats import bernoulli"
   ]
  },
  {
   "cell_type": "markdown",
   "metadata": {},
   "source": [
    "### All the methods about multi-armed bandits are about exploit and explore. A good algorithm should be able to precisely find the best bandit within a few steps. Different rules to choose exploit or explore are tested here.    "
   ]
  },
  {
   "cell_type": "markdown",
   "metadata": {},
   "source": [
    "## Epsilon Greedy"
   ]
  },
  {
   "cell_type": "code",
   "execution_count": 124,
   "metadata": {},
   "outputs": [],
   "source": [
    "# Bandit\n",
    "class Bandit:\n",
    "    def __init__(self, m):\n",
    "        self.m = m\n",
    "        self.N = 0\n",
    "        self.mean = 0\n",
    "        self.ber = bernoulli(self.m)\n",
    "    \n",
    "    def pull(self):\n",
    "        return self.ber.rvs()\n",
    "    \n",
    "    def update(self, x):\n",
    "        self.N += 1\n",
    "        self.mean = self.mean*(self.N-1)/self.N + x/self.N\n",
    "        "
   ]
  },
  {
   "cell_type": "code",
   "execution_count": 125,
   "metadata": {},
   "outputs": [],
   "source": [
    "# Experiment\n",
    "def create_bandits(m_list):\n",
    "    return [Bandit(m_list[i]) for i in range(len(m_list))]"
   ]
  },
  {
   "cell_type": "code",
   "execution_count": 132,
   "metadata": {},
   "outputs": [],
   "source": [
    "def epsilon_greedy(t, eps, bandits):\n",
    "    ban_size = len(bandits)\n",
    "    data = np.empty(t)\n",
    "    cho_list = np.empty(t)\n",
    "    \n",
    "    for i in range(t):\n",
    "        rand_num = np.random.rand()\n",
    "        if  rand_num < eps:\n",
    "        # Instead of the fixed eps, we can use decay eps to make our algorithm more efficient\n",
    "        #if  rand_num < 1/(i + 1):\n",
    "            cho = np.random.choice(ban_size)\n",
    "        else:\n",
    "            cho = np.argmax([b.mean for b in bandits])\n",
    "        x = bandits[cho].pull()\n",
    "        bandits[cho].update(x)\n",
    "        \n",
    "        data[i] = x\n",
    "        cho_list[i] = cho\n",
    "        \n",
    "    cumulative_average = np.cumsum(data) / (np.arange(t) + 1)\n",
    "    \n",
    "    for i in range(t):\n",
    "        if i % 1500 == 0:\n",
    "            print(cho_list[i])\n",
    "    \n",
    "    # plot\n",
    "    plt.plot(cumulative_average)\n",
    "    for b in bandits:\n",
    "        plt.plot(np.ones(t)*b.m)\n",
    "    plt.xscale('log')\n",
    "    plt.show()\n",
    "    \n",
    "    return cumulative_average"
   ]
  },
  {
   "cell_type": "code",
   "execution_count": 133,
   "metadata": {
    "scrolled": false
   },
   "outputs": [
    {
     "name": "stdout",
     "output_type": "stream",
     "text": [
      "0.0\n",
      "2.0\n",
      "2.0\n",
      "2.0\n",
      "2.0\n",
      "2.0\n",
      "2.0\n",
      "2.0\n",
      "2.0\n",
      "2.0\n"
     ]
    },
    {
     "data": {
      "image/png": "[encoded data removed]",
      "text/plain": [
       "<Figure size 432x288 with 1 Axes>"
      ]
     },
     "metadata": {
      "needs_background": "light"
     },
     "output_type": "display_data"
    },
    {
     "data": {
      "text/plain": [
       "array([0.        , 0.        , 0.33333333, ..., 0.28843846, 0.2884859 ,\n",
       "       0.28853333])"
      ]
     },
     "execution_count": 133,
     "metadata": {},
     "output_type": "execute_result"
    }
   ],
   "source": [
    "# simulation\n",
    "bandits = create_bandits([0.1, 0.2, 0.3])\n",
    "epsilon_greedy(15000, 0.1, bandits)"
   ]
  },
  {
   "cell_type": "markdown",
   "metadata": {},
   "source": [
    "## Thompson Sampling"
   ]
  },
  {
   "cell_type": "markdown",
   "metadata": {},
   "source": [
    "#### In this case, suppose bandits have bernoulli distribution with theta, and theta is sampled from a beta distribution, then posterior distribution of theta is still a beta distribution."
   ]
  },
  {
   "cell_type": "code",
   "execution_count": 138,
   "metadata": {},
   "outputs": [],
   "source": [
    "# We choose the bandit based on the samples from our posterior distributions\n",
    "class ThompsonBandit:\n",
    "    def __init__(self, m):\n",
    "        self.m = m\n",
    "        self.a = 1\n",
    "        self.b = 1\n",
    "        self.ber = bernoulli(self.m)\n",
    "        self.dist = beta(self.a, self.b)\n",
    "    \n",
    "    def pull(self):\n",
    "        return self.ber.rvs()\n",
    "    \n",
    "    def update(self, x):\n",
    "        self.a += x\n",
    "        self.b += (1-x)\n",
    "        self.dist = beta(self.a, self.b)"
   ]
  },
  {
   "cell_type": "code",
   "execution_count": 139,
   "metadata": {},
   "outputs": [],
   "source": [
    "# Experiment\n",
    "def create_bandits(m_list):\n",
    "    return [ThompsonBandit(m_list[i]) for i in range(len(m_list))]"
   ]
  },
  {
   "cell_type": "code",
   "execution_count": 140,
   "metadata": {},
   "outputs": [],
   "source": [
    "def thompson_sampling(t, bandits):\n",
    "    ban_size = len(bandits)\n",
    "    data = np.empty(t)\n",
    "    cho_list = np.empty(t)\n",
    "    \n",
    "    for i in range(t):\n",
    "        cho = np.argmax([b.dist.rvs() for b in bandits])\n",
    "        x = bandits[cho].pull()\n",
    "        bandits[cho].update(x)\n",
    "        \n",
    "        data[i] = x\n",
    "        cho_list[i] = cho\n",
    "        \n",
    "    cumulative_average = np.cumsum(data) / (np.arange(t) + 1)\n",
    "    \n",
    "    for i in range(t):\n",
    "        if i % 1500 == 0:\n",
    "            print(cho_list[i])\n",
    "    \n",
    "    # plot\n",
    "    plt.plot(cumulative_average)\n",
    "    for b in bandits:\n",
    "        plt.plot(np.ones(t)*b.m)\n",
    "    plt.xscale('log')\n",
    "    plt.show()\n",
    "    \n",
    "    return cumulative_average"
   ]
  },
  {
   "cell_type": "code",
   "execution_count": 141,
   "metadata": {},
   "outputs": [
    {
     "name": "stdout",
     "output_type": "stream",
     "text": [
      "0.0\n",
      "2.0\n",
      "2.0\n",
      "2.0\n",
      "2.0\n",
      "2.0\n",
      "2.0\n",
      "2.0\n",
      "2.0\n",
      "2.0\n"
     ]
    },
    {
     "data": {
      "image/png": "[encoded data removed]",
      "text/plain": [
       "<Figure size 432x288 with 1 Axes>"
      ]
     },
     "metadata": {
      "needs_background": "light"
     },
     "output_type": "display_data"
    },
    {
     "data": {
      "text/plain": [
       "array([1.        , 0.5       , 0.33333333, ..., 0.30397386, 0.3039536 ,\n",
       "       0.30393333])"
      ]
     },
     "execution_count": 141,
     "metadata": {},
     "output_type": "execute_result"
    }
   ],
   "source": [
    "# simulation\n",
    "bandits = create_bandits([0.1, 0.2, 0.3])\n",
    "thompson_sampling(15000, bandits)"
   ]
  },
  {
   "cell_type": "code",
   "execution_count": null,
   "metadata": {},
   "outputs": [],
   "source": []
  }
 ],
 "metadata": {
  "kernelspec": {
   "display_name": "Python 3",
   "language": "python",
   "name": "python3"
  },
  "language_info": {
   "codemirror_mode": {
    "name": "ipython",
    "version": 3
   },
   "file_extension": ".py",
   "mimetype": "text/x-python",
   "name": "python",
   "nbconvert_exporter": "python",
   "pygments_lexer": "ipython3",
   "version": "3.6.8"
  }
 },
 "nbformat": 4,
 "nbformat_minor": 2
}
