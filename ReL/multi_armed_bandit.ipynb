{
 "cells": [
  {
   "cell_type": "code",
   "execution_count": 1,
   "metadata": {},
   "outputs": [],
   "source": [
    "import numpy as np\n",
    "import matplotlib.pyplot as plt"
   ]
  },
  {
   "cell_type": "code",
   "execution_count": 73,
   "metadata": {},
   "outputs": [],
   "source": [
    "# Bandit\n",
    "class Bandit:\n",
    "    def __init__(self, m):\n",
    "        self.m = m\n",
    "        self.N = 0\n",
    "        self.mean = 0\n",
    "    \n",
    "    def pull(self):\n",
    "        return np.random.randn() + self.m\n",
    "    \n",
    "    def update(self, x):\n",
    "        self.N += 1\n",
    "        self.mean = self.mean*(self.N-1)/self.N + x/self.N\n",
    "        "
   ]
  },
  {
   "cell_type": "code",
   "execution_count": 74,
   "metadata": {},
   "outputs": [],
   "source": [
    "# Experiment\n",
    "def create_bandits(m_list):\n",
    "    return [Bandit(m_list[i]) for i in range(len(m_list))]"
   ]
  },
  {
   "cell_type": "markdown",
   "metadata": {},
   "source": [
    "## Epsilon Greedy"
   ]
  },
  {
   "cell_type": "code",
   "execution_count": 90,
   "metadata": {},
   "outputs": [],
   "source": [
    "def epsilon_greedy(t, eps, bandits):\n",
    "    ban_size = len(bandits)\n",
    "    data = np.empty(t)\n",
    "    cho_list = np.empty(t)\n",
    "    \n",
    "    for i in range(t):\n",
    "        rand_num = np.random.rand()\n",
    "        if  rand_num < eps:\n",
    "            cho = np.random.choice(ban_size)\n",
    "        else:\n",
    "            cho = np.argmax([b.mean for b in bandits])\n",
    "        x = bandits[cho].pull()\n",
    "        bandits[cho].update(x)\n",
    "        \n",
    "        data[i] = x\n",
    "        cho_list[i] = cho\n",
    "        \n",
    "    cumulative_average = np.cumsum(data) / (np.arange(t) + 1)\n",
    "    \n",
    "    for i in range(t):\n",
    "        if i % 500 == 0:\n",
    "            print(cho_list[i])\n",
    "    \n",
    "    # plot\n",
    "    plt.plot(cumulative_average)\n",
    "    for b in bandits:\n",
    "        plt.plot(np.ones(t)*b.m)\n",
    "    plt.xscale('log')\n",
    "    plt.show()\n",
    "    \n",
    "    return cumulative_average"
   ]
  },
  {
   "cell_type": "code",
   "execution_count": 91,
   "metadata": {
    "scrolled": false
   },
   "outputs": [
    {
     "name": "stdout",
     "output_type": "stream",
     "text": [
      "0.0\n",
      "1.0\n",
      "2.0\n",
      "1.0\n",
      "2.0\n",
      "2.0\n",
      "2.0\n",
      "2.0\n",
      "2.0\n",
      "2.0\n",
      "2.0\n",
      "2.0\n",
      "2.0\n",
      "2.0\n",
      "2.0\n",
      "0.0\n",
      "2.0\n",
      "2.0\n",
      "2.0\n",
      "2.0\n",
      "2.0\n",
      "2.0\n",
      "2.0\n",
      "2.0\n",
      "2.0\n",
      "2.0\n",
      "2.0\n",
      "2.0\n",
      "2.0\n",
      "2.0\n"
     ]
    },
    {
     "data": {
      "image/png": "[encoded data removed]",
      "text/plain": [
       "<Figure size 432x288 with 1 Axes>"
      ]
     },
     "metadata": {
      "needs_background": "light"
     },
     "output_type": "display_data"
    },
    {
     "data": {
      "text/plain": [
       "array([0.05587595, 1.0740958 , 0.32982502, ..., 0.2627888 , 0.26273306,\n",
       "       0.26275594])"
      ]
     },
     "execution_count": 91,
     "metadata": {},
     "output_type": "execute_result"
    }
   ],
   "source": [
    "# Experiment\n",
    "bandits = create_bandits([0.1, 0.2, 0.3])\n",
    "epsilon_greedy(15000, 0.1, bandits)"
   ]
  },
  {
   "cell_type": "code",
   "execution_count": null,
   "metadata": {},
   "outputs": [],
   "source": []
  }
 ],
 "metadata": {
  "kernelspec": {
   "display_name": "Python 3",
   "language": "python",
   "name": "python3"
  },
  "language_info": {
   "codemirror_mode": {
    "name": "ipython",
    "version": 3
   },
   "file_extension": ".py",
   "mimetype": "text/x-python",
   "name": "python",
   "nbconvert_exporter": "python",
   "pygments_lexer": "ipython3",
   "version": "3.6.8"
  }
 },
 "nbformat": 4,
 "nbformat_minor": 2
}
