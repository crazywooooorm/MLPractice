{
 "cells": [
  {
   "cell_type": "code",
   "execution_count": 72,
   "metadata": {},
   "outputs": [],
   "source": [
    "import requests\n",
    "from bs4 import BeautifulSoup\n",
    "import pickle\n",
    "\n",
    "import pandas as pd\n",
    "import matplotlib.pyplot as plt\n",
    "import seaborn as sns"
   ]
  },
  {
   "cell_type": "markdown",
   "metadata": {},
   "source": [
    "# Scraping Amazon reviews"
   ]
  },
  {
   "cell_type": "code",
   "execution_count": 49,
   "metadata": {},
   "outputs": [],
   "source": [
    "def get_soup(url):\n",
    "    r = requests.get('http://localhost:8050/render.html', params={'url': url, 'wait': 2})\n",
    "    soup = BeautifulSoup(r.text, 'html.parser')\n",
    "    return soup"
   ]
  },
  {
   "cell_type": "code",
   "execution_count": 50,
   "metadata": {},
   "outputs": [],
   "source": [
    "def get_reviews(soup):\n",
    "    reviews = soup.find_all('div', {'data-hook': 'review'})\n",
    "    try:\n",
    "        for item in reviews:\n",
    "            review = {\n",
    "            'product': soup.title.text.replace('Amazon.com: Customer reviews:', '').strip(),\n",
    "            'title': item.find('a', {'data-hook': 'review-title'}).text.strip(),\n",
    "            'rating':  float(item.find('i', {'data-hook': 'review-star-rating'}).text.replace('out of 5 stars', '').strip()),\n",
    "            'body': item.find('span', {'data-hook': 'review-body'}).text.strip(),\n",
    "            }\n",
    "            reviewlist.append(review)\n",
    "    except:\n",
    "        pass"
   ]
  },
  {
   "cell_type": "code",
   "execution_count": 51,
   "metadata": {},
   "outputs": [],
   "source": [
    "reviewlist = []"
   ]
  },
  {
   "cell_type": "code",
   "execution_count": 52,
   "metadata": {},
   "outputs": [],
   "source": [
    "prod_list = [\n",
    "    'WEN-HB3185-18-Inch-Variable-Combination/product-reviews/B07MFMJ1CX',\n",
    "    'WEN-6530-Electric-Planer-4-Inch/product-reviews/B00OW5AJTG',\n",
    "    'Ryobi-18-Volt-Cordless-Planer-Packaged/product-reviews/B07Y2H9LF4',\n",
    "    'Ryobi-Cordless-Brushless-Sander-P450/product-reviews/B06Y6FMBDV'\n",
    "]"
   ]
  },
  {
   "cell_type": "code",
   "execution_count": 53,
   "metadata": {
    "scrolled": true
   },
   "outputs": [
    {
     "name": "stdout",
     "output_type": "stream",
     "text": [
      "10\n",
      "20\n",
      "30\n",
      "40\n",
      "50\n",
      "60\n",
      "70\n",
      "80\n",
      "90\n",
      "100\n",
      "110\n",
      "120\n",
      "130\n",
      "140\n",
      "150\n",
      "160\n",
      "170\n",
      "180\n",
      "190\n",
      "200\n",
      "210\n",
      "220\n",
      "230\n",
      "240\n",
      "250\n",
      "260\n",
      "270\n",
      "280\n",
      "290\n",
      "300\n",
      "310\n",
      "320\n",
      "330\n",
      "340\n",
      "350\n",
      "360\n",
      "370\n",
      "380\n",
      "390\n",
      "400\n",
      "405\n",
      "405\n",
      "405\n",
      "405\n",
      "405\n",
      "405\n",
      "405\n",
      "405\n",
      "405\n",
      "415\n",
      "425\n",
      "435\n",
      "445\n",
      "455\n",
      "465\n",
      "475\n",
      "485\n",
      "495\n",
      "505\n",
      "505\n",
      "515\n",
      "525\n",
      "535\n",
      "545\n",
      "555\n",
      "565\n",
      "575\n",
      "585\n",
      "595\n",
      "605\n",
      "615\n",
      "625\n",
      "635\n",
      "645\n",
      "655\n",
      "665\n",
      "675\n",
      "685\n",
      "695\n",
      "705\n",
      "715\n",
      "725\n",
      "735\n",
      "745\n",
      "755\n",
      "765\n",
      "775\n",
      "785\n",
      "795\n",
      "805\n",
      "815\n",
      "825\n",
      "835\n",
      "845\n",
      "855\n",
      "865\n",
      "875\n",
      "885\n",
      "894\n",
      "894\n",
      "894\n",
      "894\n",
      "894\n",
      "894\n",
      "894\n",
      "894\n",
      "894\n",
      "894\n",
      "894\n",
      "894\n",
      "894\n",
      "894\n",
      "894\n",
      "894\n",
      "894\n",
      "894\n",
      "894\n",
      "894\n",
      "894\n",
      "894\n",
      "894\n",
      "894\n",
      "894\n",
      "894\n",
      "894\n",
      "894\n",
      "894\n",
      "894\n",
      "894\n",
      "894\n",
      "894\n",
      "894\n",
      "894\n",
      "894\n",
      "894\n",
      "894\n",
      "894\n",
      "894\n",
      "894\n",
      "894\n",
      "894\n",
      "894\n",
      "894\n",
      "894\n",
      "894\n",
      "894\n",
      "894\n",
      "904\n",
      "914\n",
      "924\n",
      "934\n",
      "940\n"
     ]
    }
   ],
   "source": [
    "for link in prod_list:\n",
    "    for x in range(1,50):\n",
    "        soup = get_soup('https://www.amazon.com/%s/ref=cm_cr_arp_d_paging_btm_next_2?ie=UTF8&reviewerType=all_reviews&pageNumber=%s'%(link, x))\n",
    "        get_reviews(soup)\n",
    "        print(len(reviewlist))\n",
    "        if not soup.find('li', {'class': 'a-disabled a-last'}):\n",
    "            pass\n",
    "        else:\n",
    "            break"
   ]
  },
  {
   "cell_type": "code",
   "execution_count": 54,
   "metadata": {},
   "outputs": [],
   "source": [
    "review_df = pd.DataFrame(reviewlist)"
   ]
  },
  {
   "cell_type": "code",
   "execution_count": 55,
   "metadata": {
    "scrolled": true
   },
   "outputs": [
    {
     "data": {
      "text/html": [
       "<div>\n",
       "<style scoped>\n",
       "    .dataframe tbody tr th:only-of-type {\n",
       "        vertical-align: middle;\n",
       "    }\n",
       "\n",
       "    .dataframe tbody tr th {\n",
       "        vertical-align: top;\n",
       "    }\n",
       "\n",
       "    .dataframe thead th {\n",
       "        text-align: right;\n",
       "    }\n",
       "</style>\n",
       "<table border=\"1\" class=\"dataframe\">\n",
       "  <thead>\n",
       "    <tr style=\"text-align: right;\">\n",
       "      <th></th>\n",
       "      <th>body</th>\n",
       "      <th>product</th>\n",
       "      <th>rating</th>\n",
       "      <th>title</th>\n",
       "    </tr>\n",
       "  </thead>\n",
       "  <tbody>\n",
       "    <tr>\n",
       "      <th>0</th>\n",
       "      <td>This is a fairly good belt sander for the $50 ...</td>\n",
       "      <td>WEN HB3185 5-Amp 3-by-18-Inch Variable Speed C...</td>\n",
       "      <td>4.0</td>\n",
       "      <td>Strong Reliable Motor but Poor Dust Collection</td>\n",
       "    </tr>\n",
       "    <tr>\n",
       "      <th>1</th>\n",
       "      <td>~BACKGROUND~As a DIYer around the house I didn...</td>\n",
       "      <td>WEN HB3185 5-Amp 3-by-18-Inch Variable Speed C...</td>\n",
       "      <td>4.0</td>\n",
       "      <td>Basic Belt Sander - Great Value</td>\n",
       "    </tr>\n",
       "    <tr>\n",
       "      <th>2</th>\n",
       "      <td>Great belt sander for the money...tip for thos...</td>\n",
       "      <td>WEN HB3185 5-Amp 3-by-18-Inch Variable Speed C...</td>\n",
       "      <td>5.0</td>\n",
       "      <td>Great tip to hook sander up to your vacuum</td>\n",
       "    </tr>\n",
       "    <tr>\n",
       "      <th>3</th>\n",
       "      <td>I bought this belt sander as a starter when I ...</td>\n",
       "      <td>WEN HB3185 5-Amp 3-by-18-Inch Variable Speed C...</td>\n",
       "      <td>5.0</td>\n",
       "      <td>Still my sander.</td>\n",
       "    </tr>\n",
       "    <tr>\n",
       "      <th>4</th>\n",
       "      <td>Great sander.  My 3x21\" Craftsman finally died...</td>\n",
       "      <td>WEN HB3185 5-Amp 3-by-18-Inch Variable Speed C...</td>\n",
       "      <td>5.0</td>\n",
       "      <td>Great sander. My 3x21\" Craftsman finally died ...</td>\n",
       "    </tr>\n",
       "  </tbody>\n",
       "</table>\n",
       "</div>"
      ],
      "text/plain": [
       "                                                body  \\\n",
       "0  This is a fairly good belt sander for the $50 ...   \n",
       "1  ~BACKGROUND~As a DIYer around the house I didn...   \n",
       "2  Great belt sander for the money...tip for thos...   \n",
       "3  I bought this belt sander as a starter when I ...   \n",
       "4  Great sander.  My 3x21\" Craftsman finally died...   \n",
       "\n",
       "                                             product  rating  \\\n",
       "0  WEN HB3185 5-Amp 3-by-18-Inch Variable Speed C...     4.0   \n",
       "1  WEN HB3185 5-Amp 3-by-18-Inch Variable Speed C...     4.0   \n",
       "2  WEN HB3185 5-Amp 3-by-18-Inch Variable Speed C...     5.0   \n",
       "3  WEN HB3185 5-Amp 3-by-18-Inch Variable Speed C...     5.0   \n",
       "4  WEN HB3185 5-Amp 3-by-18-Inch Variable Speed C...     5.0   \n",
       "\n",
       "                                               title  \n",
       "0     Strong Reliable Motor but Poor Dust Collection  \n",
       "1                    Basic Belt Sander - Great Value  \n",
       "2         Great tip to hook sander up to your vacuum  \n",
       "3                                   Still my sander.  \n",
       "4  Great sander. My 3x21\" Craftsman finally died ...  "
      ]
     },
     "execution_count": 55,
     "metadata": {},
     "output_type": "execute_result"
    }
   ],
   "source": [
    "review_df.head()"
   ]
  },
  {
   "cell_type": "code",
   "execution_count": 57,
   "metadata": {},
   "outputs": [],
   "source": [
    "with open('review.pickle', 'wb') as f:\n",
    "    pickle.dump(review_df, f)"
   ]
  },
  {
   "cell_type": "markdown",
   "metadata": {},
   "source": [
    "# EDA"
   ]
  },
  {
   "cell_type": "code",
   "execution_count": 58,
   "metadata": {},
   "outputs": [],
   "source": [
    "with open('review.pickle', 'rb') as f:\n",
    "    review = pickle.load(f)"
   ]
  },
  {
   "cell_type": "code",
   "execution_count": 71,
   "metadata": {},
   "outputs": [
    {
     "data": {
      "text/html": [
       "<div>\n",
       "<style scoped>\n",
       "    .dataframe tbody tr th:only-of-type {\n",
       "        vertical-align: middle;\n",
       "    }\n",
       "\n",
       "    .dataframe tbody tr th {\n",
       "        vertical-align: top;\n",
       "    }\n",
       "\n",
       "    .dataframe thead th {\n",
       "        text-align: right;\n",
       "    }\n",
       "</style>\n",
       "<table border=\"1\" class=\"dataframe\">\n",
       "  <thead>\n",
       "    <tr style=\"text-align: right;\">\n",
       "      <th></th>\n",
       "      <th>product</th>\n",
       "      <th>count</th>\n",
       "      <th>rating</th>\n",
       "    </tr>\n",
       "  </thead>\n",
       "  <tbody>\n",
       "    <tr>\n",
       "      <th>0</th>\n",
       "      <td>Ryobi 18-Volt ONE+ Cordless 3-1/4 in. Planer P...</td>\n",
       "      <td>9</td>\n",
       "      <td>4.555556</td>\n",
       "    </tr>\n",
       "    <tr>\n",
       "      <th>1</th>\n",
       "      <td>Ryobi P450 One+ 18V Lithium Ion 3 x 18 inch Br...</td>\n",
       "      <td>46</td>\n",
       "      <td>4.043478</td>\n",
       "    </tr>\n",
       "    <tr>\n",
       "      <th>2</th>\n",
       "      <td>WEN 6530 6-Amp Electric Hand Planer, 3-1/4-Inch</td>\n",
       "      <td>480</td>\n",
       "      <td>4.337500</td>\n",
       "    </tr>\n",
       "    <tr>\n",
       "      <th>3</th>\n",
       "      <td>WEN HB3185 5-Amp 3-by-18-Inch Variable Speed C...</td>\n",
       "      <td>405</td>\n",
       "      <td>3.982716</td>\n",
       "    </tr>\n",
       "  </tbody>\n",
       "</table>\n",
       "</div>"
      ],
      "text/plain": [
       "                                             product  count    rating\n",
       "0  Ryobi 18-Volt ONE+ Cordless 3-1/4 in. Planer P...      9  4.555556\n",
       "1  Ryobi P450 One+ 18V Lithium Ion 3 x 18 inch Br...     46  4.043478\n",
       "2    WEN 6530 6-Amp Electric Hand Planer, 3-1/4-Inch    480  4.337500\n",
       "3  WEN HB3185 5-Amp 3-by-18-Inch Variable Speed C...    405  3.982716"
      ]
     },
     "execution_count": 71,
     "metadata": {},
     "output_type": "execute_result"
    }
   ],
   "source": [
    "review.groupby('product').agg({'title':'size', 'rating':'mean'}).rename(columns={'title':'count'}).reset_index()"
   ]
  },
  {
   "cell_type": "code",
   "execution_count": 112,
   "metadata": {
    "scrolled": true
   },
   "outputs": [],
   "source": [
    "wen_hp = review[review['product'].str.contains('^WEN 6')]\n",
    "wen_bs = review[review['product'].str.contains('^WEN H')]"
   ]
  },
  {
   "cell_type": "markdown",
   "metadata": {},
   "source": [
    "## Rating distribution"
   ]
  },
  {
   "cell_type": "code",
   "execution_count": 91,
   "metadata": {},
   "outputs": [],
   "source": [
    "def rate_hist(df):\n",
    "    x = df.rating.value_counts()\n",
    "    sns.barplot(x.index, x)\n",
    "    plt.gca().set_ylabel('count')"
   ]
  },
  {
   "cell_type": "code",
   "execution_count": 99,
   "metadata": {},
   "outputs": [
    {
     "name": "stdout",
     "output_type": "stream",
     "text": [
      "Average rating for WEN Hand Planer is: 4.34\n"
     ]
    },
    {
     "data": {
      "image/png": "[encoded data removed]",
      "text/plain": [
       "<Figure size 432x288 with 1 Axes>"
      ]
     },
     "metadata": {
      "needs_background": "light"
     },
     "output_type": "display_data"
    }
   ],
   "source": [
    "print('Average rating for WEN Hand Planer is:', round(wen_hp.rating.mean(), 2))\n",
    "rate_hist(wen_hp)"
   ]
  },
  {
   "cell_type": "code",
   "execution_count": 100,
   "metadata": {},
   "outputs": [
    {
     "name": "stdout",
     "output_type": "stream",
     "text": [
      "Average rating for WEN Belt Sander is: 3.98\n"
     ]
    },
    {
     "data": {
      "image/png": "[encoded data removed]",
      "text/plain": [
       "<Figure size 432x288 with 1 Axes>"
      ]
     },
     "metadata": {
      "needs_background": "light"
     },
     "output_type": "display_data"
    }
   ],
   "source": [
    "print('Average rating for WEN Belt Sander is:', round(wen_bs.rating.mean(), 2))\n",
    "rate_hist(wen_bs)"
   ]
  },
  {
   "cell_type": "markdown",
   "metadata": {},
   "source": [
    "## Word distribution"
   ]
  },
  {
   "cell_type": "code",
   "execution_count": 120,
   "metadata": {},
   "outputs": [],
   "source": [
    "def word_dist(df):\n",
    "    df_dist = df.copy()\n",
    "    df_dist['word_len'] = df_dist['body'].str.len()\n",
    "    print(df_dist.groupby('rating').agg({'word_len': 'median'}))"
   ]
  },
  {
   "cell_type": "code",
   "execution_count": 121,
   "metadata": {},
   "outputs": [
    {
     "name": "stdout",
     "output_type": "stream",
     "text": [
      "        word_len\n",
      "rating          \n",
      "1.0          292\n",
      "2.0          293\n",
      "3.0          337\n",
      "4.0          248\n",
      "5.0          230\n"
     ]
    }
   ],
   "source": [
    "word_dist(wen_hp)"
   ]
  },
  {
   "cell_type": "code",
   "execution_count": 122,
   "metadata": {},
   "outputs": [
    {
     "name": "stdout",
     "output_type": "stream",
     "text": [
      "        word_len\n",
      "rating          \n",
      "1.0        189.0\n",
      "2.0        303.5\n",
      "3.0        122.0\n",
      "4.0        100.0\n",
      "5.0         76.0\n"
     ]
    }
   ],
   "source": [
    "word_dist(wen_bs)"
   ]
  },
  {
   "cell_type": "markdown",
   "metadata": {},
   "source": [
    "## Word cleaning"
   ]
  },
  {
   "cell_type": "code",
   "execution_count": null,
   "metadata": {},
   "outputs": [],
   "source": [
    "from nltk.corpus import stopwords\n",
    "stop=set(stopwords.words('english'))"
   ]
  },
  {
   "cell_type": "code",
   "execution_count": null,
   "metadata": {},
   "outputs": [],
   "source": []
  }
 ],
 "metadata": {
  "kernelspec": {
   "display_name": "Python 3",
   "language": "python",
   "name": "python3"
  },
  "language_info": {
   "codemirror_mode": {
    "name": "ipython",
    "version": 3
   },
   "file_extension": ".py",
   "mimetype": "text/x-python",
   "name": "python",
   "nbconvert_exporter": "python",
   "pygments_lexer": "ipython3",
   "version": "3.6.8"
  }
 },
 "nbformat": 4,
 "nbformat_minor": 2
}
