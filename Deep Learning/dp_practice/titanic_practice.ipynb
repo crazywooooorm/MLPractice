{
 "cells": [
  {
   "cell_type": "markdown",
   "metadata": {},
   "source": [
    "# Deep Learning Practice on Titanic Data\n",
    "We chose titanic as our first practice data because it is not big and has a binary \n",
    "output, which is good for a logistic classifier."
   ]
  },
  {
   "cell_type": "code",
   "execution_count": 6,
   "metadata": {},
   "outputs": [],
   "source": [
    "import numpy as np\n",
    "import pandas as pd\n",
    "from sklearn.model_selection import train_test_split"
   ]
  },
  {
   "cell_type": "code",
   "execution_count": 4,
   "metadata": {},
   "outputs": [],
   "source": [
    "# == Read raw data\n",
    "titanic_train = pd.read_csv(\"../data/titanic/train.csv\")\n",
    "titanic_test = pd.read_csv(\"../data/titanic/test.csv\")\n",
    "\n",
    "# Now we only consider the train data set of titanic data set\n",
    "X = titanic_train.drop('Survived', axis = 1)\n",
    "y = titanic_train.Survived"
   ]
  },
  {
   "cell_type": "code",
   "execution_count": 7,
   "metadata": {},
   "outputs": [
    {
     "name": "stdout",
     "output_type": "stream",
     "text": [
      "(891, 11)\n",
      "(891, 8)\n",
      "Index(['Pclass', 'Age', 'SibSp', 'Parch', 'Fare', 'Sex_male', 'Embarked_Q',\n",
      "       'Embarked_S'],\n",
      "      dtype='object')\n",
      "(714, 8)\n"
     ]
    }
   ],
   "source": [
    "# == Preprocessing of the modeling data\n",
    "# drop columns don't go into model\n",
    "X_model = X.drop(['PassengerId', 'Name', 'Ticket', 'Cabin'], axis = 1)\n",
    "\n",
    "# transfer object variables to dummies\n",
    "X_dummy = pd.get_dummies(X_model, drop_first=True)\n",
    "print(X.shape)\n",
    "print(X_dummy.shape)\n",
    "\n",
    "# NA manipulation\n",
    "X_dummy_clean = X_dummy.dropna()\n",
    "print(X_dummy.columns)\n",
    "print(X_dummy_clean.shape)\n",
    "\n",
    "# split the data to train and test\n",
    "X_train, X_test, y_train, y_test = train_test_split(X_dummy_clean, y[X_dummy_clean.index], test_size = 0.2, random_state = 2333)"
   ]
  }
 ],
 "metadata": {
  "kernelspec": {
   "display_name": "Python 3",
   "language": "python",
   "name": "python3"
  },
  "language_info": {
   "codemirror_mode": {
    "name": "ipython",
    "version": 3
   },
   "file_extension": ".py",
   "mimetype": "text/x-python",
   "name": "python",
   "nbconvert_exporter": "python",
   "pygments_lexer": "ipython3",
   "version": "3.6.5"
  }
 },
 "nbformat": 4,
 "nbformat_minor": 2
}
