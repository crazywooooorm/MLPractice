{
  "nbformat": 4,
  "nbformat_minor": 0,
  "metadata": {
    "accelerator": "GPU",
    "colab": {
      "name": "NLP Course - Week 3 Exercise Question.ipynb",
      "provenance": [],
      "toc_visible": true
    },
    "kernelspec": {
      "display_name": "Python 3",
      "name": "python3"
    }
  },
  "cells": [
    {
      "cell_type": "code",
      "metadata": {
        "id": "zX4Kg8DUTKWO"
      },
      "source": [
        "#@title Licensed under the Apache License, Version 2.0 (the \"License\");\n",
        "# you may not use this file except in compliance with the License.\n",
        "# You may obtain a copy of the License at\n",
        "#\n",
        "# https://www.apache.org/licenses/LICENSE-2.0\n",
        "#\n",
        "# Unless required by applicable law or agreed to in writing, software\n",
        "# distributed under the License is distributed on an \"AS IS\" BASIS,\n",
        "# WITHOUT WARRANTIES OR CONDITIONS OF ANY KIND, either express or implied.\n",
        "# See the License for the specific language governing permissions and\n",
        "# limitations under the License."
      ],
      "execution_count": null,
      "outputs": []
    },
    {
      "cell_type": "code",
      "metadata": {
        "id": "hmA6EzkQJ5jt"
      },
      "source": [
        "import json\n",
        "import tensorflow as tf\n",
        "import csv\n",
        "import random\n",
        "import numpy as np\n",
        "\n",
        "from tensorflow.keras.preprocessing.text import Tokenizer\n",
        "from tensorflow.keras.preprocessing.sequence import pad_sequences\n",
        "from tensorflow.keras.utils import to_categorical\n",
        "from tensorflow.keras import regularizers\n",
        "\n",
        "\n",
        "embedding_dim = 100\n",
        "max_length = 16\n",
        "trunc_type='post'\n",
        "padding_type='post'\n",
        "oov_tok = \"<OOV>\"\n",
        "training_size=16000\n",
        "test_portion=.1\n",
        "\n",
        "corpus = []\n"
      ],
      "execution_count": 1,
      "outputs": []
    },
    {
      "cell_type": "code",
      "metadata": {
        "colab": {
          "base_uri": "https://localhost:8080/"
        },
        "id": "bM0l_dORKqE0",
        "outputId": "aa28e88a-bca9-4e60-e2d3-9c8a447b0bd3"
      },
      "source": [
        "# Note that I cleaned the Stanford dataset to remove LATIN1 encoding to make it easier for Python CSV reader\n",
        "# You can do that yourself with:\n",
        "# iconv -f LATIN1 -t UTF8 training.1600000.processed.noemoticon.csv -o training_cleaned.csv\n",
        "# I then hosted it on my site to make it easier to use in this notebook\n",
        "\n",
        "!wget --no-check-certificate \\\n",
        "    https://storage.googleapis.com/laurencemoroney-blog.appspot.com/training_cleaned.csv \\\n",
        "    -O /tmp/training_cleaned.csv\n",
        "\n",
        "num_sentences = 0\n",
        "\n",
        "with open(\"/tmp/training_cleaned.csv\") as csvfile:\n",
        "    reader = csv.reader(csvfile, delimiter=',')\n",
        "    for row in reader:\n",
        "      # Your Code here. Create list items where the first item is the text, found in row[5], and the second is the label. Note that the label is a '0' or a '4' in the text. When it's the former, make\n",
        "      # your label to be 0, otherwise 1. Keep a count of the number of sentences in num_sentences\n",
        "        list_item=[]\n",
        "        list_item.append(row[5])\n",
        "        this_label=row[0]\n",
        "        if this_label=='0':\n",
        "            list_item.append(0)\n",
        "        else:\n",
        "            list_item.append(1)\n",
        "        num_sentences = num_sentences + 1\n",
        "        corpus.append(list_item)\n"
      ],
      "execution_count": 2,
      "outputs": [
        {
          "output_type": "stream",
          "text": [
            "--2020-12-26 22:41:47--  https://storage.googleapis.com/laurencemoroney-blog.appspot.com/training_cleaned.csv\n",
            "Resolving storage.googleapis.com (storage.googleapis.com)... 172.217.2.112, 172.217.7.240, 172.253.62.128, ...\n",
            "Connecting to storage.googleapis.com (storage.googleapis.com)|172.217.2.112|:443... connected.\n",
            "HTTP request sent, awaiting response... 200 OK\n",
            "Length: 238942690 (228M) [application/octet-stream]\n",
            "Saving to: ‘/tmp/training_cleaned.csv’\n",
            "\n",
            "/tmp/training_clean 100%[===================>] 227.87M   110MB/s    in 2.1s    \n",
            "\n",
            "2020-12-26 22:41:49 (110 MB/s) - ‘/tmp/training_cleaned.csv’ saved [238942690/238942690]\n",
            "\n"
          ],
          "name": "stdout"
        }
      ]
    },
    {
      "cell_type": "code",
      "metadata": {
        "colab": {
          "base_uri": "https://localhost:8080/"
        },
        "id": "3kxblBUjEUX-",
        "outputId": "a61f306b-025c-4370-a57e-db78a42ec764"
      },
      "source": [
        "print(num_sentences)\n",
        "print(len(corpus))\n",
        "print(corpus[1])\n",
        "\n",
        "# Expected Output:\n",
        "# 1600000\n",
        "# 1600000\n",
        "# [\"is upset that he can't update his Facebook by texting it... and might cry as a result  School today also. Blah!\", 0]"
      ],
      "execution_count": 3,
      "outputs": [
        {
          "output_type": "stream",
          "text": [
            "1600000\n",
            "1600000\n",
            "[\"is upset that he can't update his Facebook by texting it... and might cry as a result  School today also. Blah!\", 0]\n"
          ],
          "name": "stdout"
        }
      ]
    },
    {
      "cell_type": "code",
      "metadata": {
        "id": "ohOGz24lsNAD"
      },
      "source": [
        "sentences=[]\n",
        "labels=[]\n",
        "random.shuffle(corpus)\n",
        "for x in range(training_size):\n",
        "    sentences.append(corpus[x][0])\n",
        "    labels.append(corpus[x][1])\n",
        "\n",
        "\n",
        "tokenizer = Tokenizer()\n",
        "tokenizer.fit_on_texts(sentences)\n",
        "\n",
        "word_index = tokenizer.word_index\n",
        "vocab_size=len(word_index)\n",
        "\n",
        "sequences = tokenizer.texts_to_sequences(sentences)\n",
        "padded = pad_sequences(sequences, maxlen=max_length, padding=padding_type, truncating=trunc_type)\n",
        "\n",
        "split = int(test_portion * training_size)\n",
        "\n",
        "test_sequences = padded[:split]\n",
        "training_sequences = padded[split:training_size]\n",
        "test_labels = labels[:split]\n",
        "training_labels = labels[split:training_size]"
      ],
      "execution_count": 10,
      "outputs": []
    },
    {
      "cell_type": "code",
      "metadata": {
        "colab": {
          "base_uri": "https://localhost:8080/"
        },
        "id": "gIrtRem1En3N",
        "outputId": "9aea068b-702a-4969-b918-79703f99e8d1"
      },
      "source": [
        "print(vocab_size)\n",
        "print(word_index['i'])"
      ],
      "execution_count": 11,
      "outputs": [
        {
          "output_type": "stream",
          "text": [
            "26601\n",
            "1\n"
          ],
          "name": "stdout"
        }
      ]
    },
    {
      "cell_type": "code",
      "metadata": {
        "colab": {
          "base_uri": "https://localhost:8080/"
        },
        "id": "C1zdgJkusRh0",
        "outputId": "f3790049-0d3f-4b67-8b0a-c50e4a9614be"
      },
      "source": [
        "# Note this is the 100 dimension version of GloVe from Stanford\n",
        "# I unzipped and hosted it on my site to make this notebook easier\n",
        "!wget --no-check-certificate \\\n",
        "    https://storage.googleapis.com/laurencemoroney-blog.appspot.com/glove.6B.100d.txt \\\n",
        "    -O /tmp/glove.6B.100d.txt\n",
        "embeddings_index = {};\n",
        "with open('/tmp/glove.6B.100d.txt') as f:\n",
        "    for line in f:\n",
        "        values = line.split();\n",
        "        word = values[0];\n",
        "        coefs = np.asarray(values[1:], dtype='float32');\n",
        "        embeddings_index[word] = coefs;\n",
        "\n",
        "embeddings_matrix = np.zeros((vocab_size+1, embedding_dim));\n",
        "for word, i in word_index.items():\n",
        "    embedding_vector = embeddings_index.get(word);\n",
        "    if embedding_vector is not None:\n",
        "        embeddings_matrix[i] = embedding_vector;"
      ],
      "execution_count": 12,
      "outputs": [
        {
          "output_type": "stream",
          "text": [
            "--2020-12-26 23:02:23--  https://storage.googleapis.com/laurencemoroney-blog.appspot.com/glove.6B.100d.txt\n",
            "Resolving storage.googleapis.com (storage.googleapis.com)... 172.217.8.16, 142.250.73.240, 172.253.115.128, ...\n",
            "Connecting to storage.googleapis.com (storage.googleapis.com)|172.217.8.16|:443... connected.\n",
            "HTTP request sent, awaiting response... 200 OK\n",
            "Length: 347116733 (331M) [text/plain]\n",
            "Saving to: ‘/tmp/glove.6B.100d.txt’\n",
            "\n",
            "/tmp/glove.6B.100d. 100%[===================>] 331.04M   140MB/s    in 2.4s    \n",
            "\n",
            "2020-12-26 23:02:26 (140 MB/s) - ‘/tmp/glove.6B.100d.txt’ saved [347116733/347116733]\n",
            "\n"
          ],
          "name": "stdout"
        }
      ]
    },
    {
      "cell_type": "code",
      "metadata": {
        "colab": {
          "base_uri": "https://localhost:8080/"
        },
        "id": "71NLk_lpFLNt",
        "outputId": "4f91b624-bb78-49cc-fc96-6c290fff4922"
      },
      "source": [
        "print(len(embeddings_matrix))"
      ],
      "execution_count": 13,
      "outputs": [
        {
          "output_type": "stream",
          "text": [
            "26602\n"
          ],
          "name": "stdout"
        }
      ]
    },
    {
      "cell_type": "code",
      "metadata": {
        "colab": {
          "base_uri": "https://localhost:8080/"
        },
        "id": "iKKvbuEBOGFz",
        "outputId": "33f3d560-69b8-4dfb-db10-baedef463c65"
      },
      "source": [
        "model = tf.keras.Sequential([\n",
        "    tf.keras.layers.Embedding(vocab_size+1, embedding_dim, input_length=max_length, weights=[embeddings_matrix], trainable=False),\n",
        "    tf.keras.layers.Dropout(0.2),\n",
        "    tf.keras.layers.Conv1D(64, 5, activation='relu'),\n",
        "    tf.keras.layers.MaxPooling1D(pool_size=4),\n",
        "    tf.keras.layers.LSTM(64),\n",
        "    tf.keras.layers.Dense(1, activation='sigmoid')\n",
        "])\n",
        "model.compile(loss='binary_crossentropy',optimizer='adam',metrics=['accuracy'])\n",
        "model.summary()\n",
        "\n",
        "num_epochs = 50\n",
        "\n",
        "training_padded = np.array(training_sequences)\n",
        "training_labels = np.array(training_labels)\n",
        "testing_padded = np.array(test_sequences)\n",
        "testing_labels = np.array(test_labels)\n",
        "\n",
        "history = model.fit(training_padded, training_labels, epochs=num_epochs, validation_data=(testing_padded, testing_labels), verbose=2)\n",
        "\n",
        "print(\"Training Complete\")\n"
      ],
      "execution_count": 19,
      "outputs": [
        {
          "output_type": "stream",
          "text": [
            "Model: \"sequential_2\"\n",
            "_________________________________________________________________\n",
            "Layer (type)                 Output Shape              Param #   \n",
            "=================================================================\n",
            "embedding_2 (Embedding)      (None, 16, 100)           2660200   \n",
            "_________________________________________________________________\n",
            "dropout_2 (Dropout)          (None, 16, 100)           0         \n",
            "_________________________________________________________________\n",
            "conv1d_2 (Conv1D)            (None, 12, 64)            32064     \n",
            "_________________________________________________________________\n",
            "max_pooling1d_2 (MaxPooling1 (None, 3, 64)             0         \n",
            "_________________________________________________________________\n",
            "lstm_2 (LSTM)                (None, 64)                33024     \n",
            "_________________________________________________________________\n",
            "dense_2 (Dense)              (None, 1)                 65        \n",
            "=================================================================\n",
            "Total params: 2,725,353\n",
            "Trainable params: 65,153\n",
            "Non-trainable params: 2,660,200\n",
            "_________________________________________________________________\n",
            "Epoch 1/50\n",
            "450/450 - 10s - loss: 0.6336 - accuracy: 0.6344 - val_loss: 0.5964 - val_accuracy: 0.6719\n",
            "Epoch 2/50\n",
            "450/450 - 1s - loss: 0.5732 - accuracy: 0.6956 - val_loss: 0.6068 - val_accuracy: 0.6644\n",
            "Epoch 3/50\n",
            "450/450 - 1s - loss: 0.5403 - accuracy: 0.7224 - val_loss: 0.5806 - val_accuracy: 0.6756\n",
            "Epoch 4/50\n",
            "450/450 - 1s - loss: 0.5122 - accuracy: 0.7415 - val_loss: 0.5777 - val_accuracy: 0.6831\n",
            "Epoch 5/50\n",
            "450/450 - 1s - loss: 0.4803 - accuracy: 0.7664 - val_loss: 0.5973 - val_accuracy: 0.6794\n",
            "Epoch 6/50\n",
            "450/450 - 1s - loss: 0.4579 - accuracy: 0.7784 - val_loss: 0.6338 - val_accuracy: 0.6619\n",
            "Epoch 7/50\n",
            "450/450 - 1s - loss: 0.4305 - accuracy: 0.7946 - val_loss: 0.6144 - val_accuracy: 0.6888\n",
            "Epoch 8/50\n",
            "450/450 - 1s - loss: 0.4072 - accuracy: 0.8082 - val_loss: 0.6809 - val_accuracy: 0.6650\n",
            "Epoch 9/50\n",
            "450/450 - 1s - loss: 0.3850 - accuracy: 0.8208 - val_loss: 0.6784 - val_accuracy: 0.6869\n",
            "Epoch 10/50\n",
            "450/450 - 1s - loss: 0.3672 - accuracy: 0.8324 - val_loss: 0.6896 - val_accuracy: 0.6888\n",
            "Epoch 11/50\n",
            "450/450 - 1s - loss: 0.3534 - accuracy: 0.8399 - val_loss: 0.6919 - val_accuracy: 0.6988\n",
            "Epoch 12/50\n",
            "450/450 - 1s - loss: 0.3332 - accuracy: 0.8527 - val_loss: 0.7231 - val_accuracy: 0.6938\n",
            "Epoch 13/50\n",
            "450/450 - 1s - loss: 0.3148 - accuracy: 0.8621 - val_loss: 0.7453 - val_accuracy: 0.6862\n",
            "Epoch 14/50\n",
            "450/450 - 1s - loss: 0.3068 - accuracy: 0.8656 - val_loss: 0.7357 - val_accuracy: 0.6800\n",
            "Epoch 15/50\n",
            "450/450 - 1s - loss: 0.2984 - accuracy: 0.8635 - val_loss: 0.7603 - val_accuracy: 0.6656\n",
            "Epoch 16/50\n",
            "450/450 - 1s - loss: 0.2890 - accuracy: 0.8733 - val_loss: 0.7653 - val_accuracy: 0.6831\n",
            "Epoch 17/50\n",
            "450/450 - 1s - loss: 0.2749 - accuracy: 0.8795 - val_loss: 0.8102 - val_accuracy: 0.6837\n",
            "Epoch 18/50\n",
            "450/450 - 1s - loss: 0.2681 - accuracy: 0.8856 - val_loss: 0.7723 - val_accuracy: 0.6850\n",
            "Epoch 19/50\n",
            "450/450 - 1s - loss: 0.2544 - accuracy: 0.8908 - val_loss: 0.8198 - val_accuracy: 0.6775\n",
            "Epoch 20/50\n",
            "450/450 - 1s - loss: 0.2549 - accuracy: 0.8900 - val_loss: 0.8127 - val_accuracy: 0.6800\n",
            "Epoch 21/50\n",
            "450/450 - 1s - loss: 0.2446 - accuracy: 0.8926 - val_loss: 0.7959 - val_accuracy: 0.6762\n",
            "Epoch 22/50\n",
            "450/450 - 1s - loss: 0.2415 - accuracy: 0.8949 - val_loss: 0.8718 - val_accuracy: 0.6800\n",
            "Epoch 23/50\n",
            "450/450 - 1s - loss: 0.2347 - accuracy: 0.8974 - val_loss: 0.8671 - val_accuracy: 0.6756\n",
            "Epoch 24/50\n",
            "450/450 - 1s - loss: 0.2276 - accuracy: 0.9058 - val_loss: 0.8500 - val_accuracy: 0.6781\n",
            "Epoch 25/50\n",
            "450/450 - 1s - loss: 0.2231 - accuracy: 0.9060 - val_loss: 0.8574 - val_accuracy: 0.6831\n",
            "Epoch 26/50\n",
            "450/450 - 1s - loss: 0.2140 - accuracy: 0.9094 - val_loss: 0.9640 - val_accuracy: 0.6731\n",
            "Epoch 27/50\n",
            "450/450 - 1s - loss: 0.2128 - accuracy: 0.9098 - val_loss: 0.8927 - val_accuracy: 0.6869\n",
            "Epoch 28/50\n",
            "450/450 - 1s - loss: 0.2116 - accuracy: 0.9112 - val_loss: 0.8602 - val_accuracy: 0.6737\n",
            "Epoch 29/50\n",
            "450/450 - 1s - loss: 0.2017 - accuracy: 0.9142 - val_loss: 0.9064 - val_accuracy: 0.6831\n",
            "Epoch 30/50\n",
            "450/450 - 1s - loss: 0.2013 - accuracy: 0.9163 - val_loss: 0.9647 - val_accuracy: 0.6762\n",
            "Epoch 31/50\n",
            "450/450 - 1s - loss: 0.1896 - accuracy: 0.9201 - val_loss: 0.9572 - val_accuracy: 0.6781\n",
            "Epoch 32/50\n",
            "450/450 - 1s - loss: 0.1929 - accuracy: 0.9228 - val_loss: 0.9441 - val_accuracy: 0.6719\n",
            "Epoch 33/50\n",
            "450/450 - 1s - loss: 0.1873 - accuracy: 0.9219 - val_loss: 0.9837 - val_accuracy: 0.6850\n",
            "Epoch 34/50\n",
            "450/450 - 1s - loss: 0.1771 - accuracy: 0.9285 - val_loss: 0.9791 - val_accuracy: 0.6769\n",
            "Epoch 35/50\n",
            "450/450 - 1s - loss: 0.1767 - accuracy: 0.9280 - val_loss: 1.0170 - val_accuracy: 0.6625\n",
            "Epoch 36/50\n",
            "450/450 - 1s - loss: 0.1817 - accuracy: 0.9255 - val_loss: 0.9955 - val_accuracy: 0.6731\n",
            "Epoch 37/50\n",
            "450/450 - 1s - loss: 0.1625 - accuracy: 0.9347 - val_loss: 1.0693 - val_accuracy: 0.6694\n",
            "Epoch 38/50\n",
            "450/450 - 1s - loss: 0.1747 - accuracy: 0.9266 - val_loss: 1.0360 - val_accuracy: 0.6650\n",
            "Epoch 39/50\n",
            "450/450 - 1s - loss: 0.1631 - accuracy: 0.9338 - val_loss: 1.0085 - val_accuracy: 0.6812\n",
            "Epoch 40/50\n",
            "450/450 - 1s - loss: 0.1614 - accuracy: 0.9334 - val_loss: 1.0362 - val_accuracy: 0.6794\n",
            "Epoch 41/50\n",
            "450/450 - 1s - loss: 0.1586 - accuracy: 0.9355 - val_loss: 1.0495 - val_accuracy: 0.6862\n",
            "Epoch 42/50\n",
            "450/450 - 1s - loss: 0.1562 - accuracy: 0.9371 - val_loss: 1.0411 - val_accuracy: 0.6662\n",
            "Epoch 43/50\n",
            "450/450 - 1s - loss: 0.1620 - accuracy: 0.9353 - val_loss: 1.0361 - val_accuracy: 0.6650\n",
            "Epoch 44/50\n",
            "450/450 - 1s - loss: 0.1469 - accuracy: 0.9417 - val_loss: 1.1018 - val_accuracy: 0.6706\n",
            "Epoch 45/50\n",
            "450/450 - 1s - loss: 0.1528 - accuracy: 0.9392 - val_loss: 1.0537 - val_accuracy: 0.6787\n",
            "Epoch 46/50\n",
            "450/450 - 1s - loss: 0.1540 - accuracy: 0.9387 - val_loss: 1.0300 - val_accuracy: 0.6737\n",
            "Epoch 47/50\n",
            "450/450 - 2s - loss: 0.1478 - accuracy: 0.9413 - val_loss: 1.0505 - val_accuracy: 0.6844\n",
            "Epoch 48/50\n",
            "450/450 - 2s - loss: 0.1453 - accuracy: 0.9426 - val_loss: 1.1184 - val_accuracy: 0.6737\n",
            "Epoch 49/50\n",
            "450/450 - 2s - loss: 0.1482 - accuracy: 0.9417 - val_loss: 1.0592 - val_accuracy: 0.6762\n",
            "Epoch 50/50\n",
            "450/450 - 2s - loss: 0.1436 - accuracy: 0.9444 - val_loss: 1.0944 - val_accuracy: 0.6794\n",
            "Training Complete\n"
          ],
          "name": "stdout"
        }
      ]
    },
    {
      "cell_type": "code",
      "metadata": {
        "colab": {
          "base_uri": "https://localhost:8080/",
          "height": 607
        },
        "id": "qxju4ItJKO8F",
        "outputId": "253d099d-4c2b-479d-a841-c96003ce0e5a"
      },
      "source": [
        "import matplotlib.image  as mpimg\n",
        "import matplotlib.pyplot as plt\n",
        "\n",
        "#-----------------------------------------------------------\n",
        "# Retrieve a list of list results on training and test data\n",
        "# sets for each training epoch\n",
        "#-----------------------------------------------------------\n",
        "acc=history.history['accuracy']\n",
        "val_acc=history.history['val_accuracy']\n",
        "loss=history.history['loss']\n",
        "val_loss=history.history['val_loss']\n",
        "\n",
        "epochs=range(len(acc)) # Get number of epochs\n",
        "\n",
        "#------------------------------------------------\n",
        "# Plot training and validation accuracy per epoch\n",
        "#------------------------------------------------\n",
        "plt.plot(epochs, acc, 'r')\n",
        "plt.plot(epochs, val_acc, 'b')\n",
        "plt.title('Training and validation accuracy')\n",
        "plt.xlabel(\"Epochs\")\n",
        "plt.ylabel(\"Accuracy\")\n",
        "plt.legend([\"Accuracy\", \"Validation Accuracy\"])\n",
        "\n",
        "plt.figure()\n",
        "\n",
        "#------------------------------------------------\n",
        "# Plot training and validation loss per epoch\n",
        "#------------------------------------------------\n",
        "plt.plot(epochs, loss, 'r')\n",
        "plt.plot(epochs, val_loss, 'b')\n",
        "plt.title('Training and validation loss')\n",
        "plt.xlabel(\"Epochs\")\n",
        "plt.ylabel(\"Loss\")\n",
        "plt.legend([\"Loss\", \"Validation Loss\"])\n",
        "\n",
        "plt.figure()\n",
        "\n",
        "\n",
        "# Expected Output\n",
        "# A chart where the validation loss does not increase sharply!"
      ],
      "execution_count": 20,
      "outputs": [
        {
          "output_type": "execute_result",
          "data": {
            "text/plain": [
              "<Figure size 432x288 with 0 Axes>"
            ]
          },
          "metadata": {
            "tags": []
          },
          "execution_count": 20
        },
        {
          "output_type": "display_data",
          "data": {
            "image/png": "[encoded data removed]",
            "text/plain": [
              "<Figure size 432x288 with 1 Axes>"
            ]
          },
          "metadata": {
            "tags": [],
            "needs_background": "light"
          }
        },
        {
          "output_type": "display_data",
          "data": {
            "image/png": "[encoded data removed]",
            "text/plain": [
              "<Figure size 432x288 with 1 Axes>"
            ]
          },
          "metadata": {
            "tags": [],
            "needs_background": "light"
          }
        },
        {
          "output_type": "display_data",
          "data": {
            "text/plain": [
              "<Figure size 432x288 with 0 Axes>"
            ]
          },
          "metadata": {
            "tags": []
          }
        }
      ]
    }
  ]
}