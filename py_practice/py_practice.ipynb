{
 "cells": [
  {
   "cell_type": "code",
   "execution_count": 41,
   "metadata": {},
   "outputs": [],
   "source": [
    "import numpy as np\n",
    "import pandas as pd"
   ]
  },
  {
   "cell_type": "code",
   "execution_count": 15,
   "metadata": {
    "scrolled": false
   },
   "outputs": [
    {
     "name": "stdout",
     "output_type": "stream",
     "text": [
      "(5226, 9)\n",
      "<class 'pandas.core.frame.DataFrame'>\n",
      "RangeIndex: 5226 entries, 0 to 5225\n",
      "Data columns (total 9 columns):\n",
      "Unnamed: 0    5226 non-null int64\n",
      "released      5226 non-null object\n",
      "colour        5226 non-null object\n",
      "year          5226 non-null int64\n",
      "age           5226 non-null int64\n",
      "sex           5226 non-null object\n",
      "employed      5226 non-null object\n",
      "citizen       5226 non-null object\n",
      "checks        5226 non-null int64\n",
      "dtypes: int64(4), object(5)\n",
      "memory usage: 367.5+ KB\n",
      "None\n",
      "   Unnamed: 0 released colour  year  age     sex employed citizen  checks\n",
      "0           1      Yes  White  2002   21    Male      Yes     Yes       3\n",
      "1           2       No  Black  1999   17    Male      Yes     Yes       3\n",
      "2           3      Yes  White  2000   24    Male      Yes     Yes       3\n",
      "3           4       No  Black  2000   46    Male      Yes     Yes       1\n",
      "4           5      Yes  Black  1999   27  Female      Yes     Yes       1\n",
      "        Unnamed: 0         year          age       checks\n",
      "count  5226.000000  5226.000000  5226.000000  5226.000000\n",
      "mean   2613.500000  1999.509376    23.846537     1.636433\n",
      "std    1508.760584     1.390056     8.316133     1.539230\n",
      "min       1.000000  1997.000000    12.000000     0.000000\n",
      "25%    1307.250000  1998.000000    18.000000     0.000000\n",
      "50%    2613.500000  2000.000000    21.000000     1.000000\n",
      "75%    3919.750000  2001.000000    27.000000     3.000000\n",
      "max    5226.000000  2002.000000    66.000000     6.000000\n"
     ]
    }
   ],
   "source": [
    "arrest = pd.read_csv(\"./Arrests.csv\")\n",
    "print(arrest.shape)\n",
    "print(arrest.info())\n",
    "print(arrest.head())\n",
    "print(arrest.describe())"
   ]
  },
  {
   "cell_type": "code",
   "execution_count": 18,
   "metadata": {
    "scrolled": false
   },
   "outputs": [
    {
     "name": "stdout",
     "output_type": "stream",
     "text": [
      "   Unnamed: 0 released colour  year  age     sex employed citizen  checks\n",
      "0           1      Yes  white  2002   21    Male      Yes     Yes       3\n",
      "1           2       No  black  1999   17    Male      Yes     Yes       3\n",
      "2           3      Yes  white  2000   24    Male      Yes     Yes       3\n",
      "3           4       No  black  2000   46    Male      Yes     Yes       1\n",
      "4           5      Yes  black  1999   27  Female      Yes     Yes       1\n"
     ]
    }
   ],
   "source": [
    "arrest_clean = (arrest.dropna()\n",
    "               .assign(colour = lambda x: x.colour.str.lower()))\n",
    "print(arrest_clean.head())"
   ]
  },
  {
   "cell_type": "code",
   "execution_count": 40,
   "metadata": {
    "scrolled": false
   },
   "outputs": [
    {
     "name": "stdout",
     "output_type": "stream",
     "text": [
      "   first_col second_col\n",
      "0          0        a_b\n",
      "1          1        a_c\n",
      "2          2        a_d\n",
      "3          3        a_e\n",
      "<class 'pandas.core.frame.DataFrame'>\n",
      "RangeIndex: 4 entries, 0 to 3\n",
      "Data columns (total 2 columns):\n",
      "first_col     4 non-null int64\n",
      "second_col    4 non-null object\n",
      "dtypes: int64(1), object(1)\n",
      "memory usage: 144.0+ bytes\n",
      "None\n",
      "   first_col second_col third_col\n",
      "0          0        a_b         b\n",
      "1          1        a_c         c\n",
      "2          2        a_d         d\n",
      "3          3        a_e         e\n"
     ]
    }
   ],
   "source": [
    "test_data = pd.DataFrame({\"first_col\":pd.Series(range(4)),\n",
    "                         \"second_col\":[\"a_b\", \"a_c\", \"a_d\", \"a_e\"]})\n",
    "\n",
    "\n",
    "print(test_data)\n",
    "print(test_data.info())\n",
    "\n",
    "test_data = test_data.assign(third_col = lambda x: x.second_col.str.extract(\"^a_(.*)\"))\n",
    "\n",
    "print(test_data)"
   ]
  },
  {
   "cell_type": "code",
   "execution_count": 45,
   "metadata": {},
   "outputs": [
    {
     "data": {
      "text/plain": [
       "array([[1, 2, 3, 4],\n",
       "       [5, 6, 7, 8]])"
      ]
     },
     "execution_count": 45,
     "metadata": {},
     "output_type": "execute_result"
    }
   ],
   "source": [
    "np.array([(1,2,3,4), (5,6,7,8)])"
   ]
  }
 ],
 "metadata": {
  "kernelspec": {
   "display_name": "Python 3",
   "language": "python",
   "name": "python3"
  },
  "language_info": {
   "codemirror_mode": {
    "name": "ipython",
    "version": 3
   },
   "file_extension": ".py",
   "mimetype": "text/x-python",
   "name": "python",
   "nbconvert_exporter": "python",
   "pygments_lexer": "ipython3",
   "version": "3.6.5"
  }
 },
 "nbformat": 4,
 "nbformat_minor": 2
}
